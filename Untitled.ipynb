{
 "cells": [
  {
   "cell_type": "code",
   "execution_count": 93,
   "metadata": {},
   "outputs": [],
   "source": [
    "import matplotlib.pyplot as plt\n",
    "import pandas as pd\n",
    "import numpy as np\n",
    "import time"
   ]
  },
  {
   "cell_type": "code",
   "execution_count": 53,
   "metadata": {},
   "outputs": [
    {
     "name": "stdout",
     "output_type": "stream",
     "text": [
      "   speed  dist\n",
      "0      4     2\n",
      "1      4    10\n",
      "2      7     4\n",
      "3      7    22\n",
      "4      8    16\n"
     ]
    }
   ],
   "source": [
    "#读取数据\n",
    "data_cars = pd.read_csv(\"./data/cars.csv\", \n",
    "                        usecols = [\"speed\", \"dist\"])\n",
    "\n",
    "print(data_cars.head())\n",
    "\n",
    "speed = data_cars[\"speed\"]\n",
    "dist = data_cars[\"dist\"]"
   ]
  },
  {
   "cell_type": "code",
   "execution_count": 54,
   "metadata": {},
   "outputs": [
    {
     "data": {
      "text/plain": [
       "0    4\n",
       "1    4\n",
       "2    7\n",
       "0    4\n",
       "Name: speed, dtype: int64"
      ]
     },
     "execution_count": 54,
     "metadata": {},
     "output_type": "execute_result"
    }
   ],
   "source": [
    "speed[[0, 1, 2, 0]]"
   ]
  },
  {
   "cell_type": "code",
   "execution_count": 62,
   "metadata": {
    "collapsed": true
   },
   "outputs": [],
   "source": [
    "#迭代法\n",
    "import random"
   ]
  },
  {
   "cell_type": "code",
   "execution_count": 71,
   "metadata": {
    "collapsed": true
   },
   "outputs": [],
   "source": [
    "#定义递推关系,更新迭代变量\n",
    "def update_var(old_alpha, old_beta, y, x, learning_rate):\n",
    "    len_x = len(x)\n",
    "    alpha_delta = np.sum(-(y - old_beta*x - old_alpha))/len_x\n",
    "    beta_delta = np.sum(-x*(y - old_beta*x - old_alpha))/len_x\n",
    "    new_alpha = old_alpha - learning_rate*alpha_delta\n",
    "    new_beta = old_beta - learning_rate*beta_delta\n",
    "    \n",
    "    return (new_alpha, new_beta)"
   ]
  },
  {
   "cell_type": "code",
   "execution_count": 72,
   "metadata": {
    "collapsed": true
   },
   "outputs": [],
   "source": [
    "#迭代\n",
    "def iterative_func(y, x, start_alpha, start_beta,\n",
    "                   learning_rate, iterative_num, \n",
    "                   sample_num):\n",
    "    alpha_list = []\n",
    "    beta_list = []\n",
    "    alpha = start_alpha\n",
    "    beta = start_beta\n",
    "    num_list = list(range(1, len(y)))\n",
    "    for i in range(iterative_num):\n",
    "        alpha_list.append(alpha)\n",
    "        beta_list.append(beta)\n",
    "        random.shuffle(num_list)\n",
    "        \n",
    "        index = num_list[:sample_num]\n",
    "#         print(index)\n",
    "        alpha, beta = update_var(alpha, beta, \n",
    "                                 y[index], x[index], learning_rate)\n",
    "    return (alpha_list, beta_list)"
   ]
  },
  {
   "cell_type": "code",
   "execution_count": 94,
   "metadata": {
    "collapsed": true
   },
   "outputs": [],
   "source": [
    "#在[0, 10)之间按照均匀分布随机产生alpha和beta的初始值\n",
    "start_alpha = np.random.random()*10\n",
    "start_beta = np.random.random()*10\n",
    "\n",
    "#设置学习率为0.01,迭代次数为500次,每次计算8个数据\n",
    "learning_rate = 0.002\n",
    "iterative_num = 20000\n",
    "sample_num = 16"
   ]
  },
  {
   "cell_type": "code",
   "execution_count": 95,
   "metadata": {},
   "outputs": [
    {
     "data": {
      "text/plain": [
       "0.9162398624425516"
      ]
     },
     "execution_count": 95,
     "metadata": {},
     "output_type": "execute_result"
    }
   ],
   "source": [
    "start_alpha"
   ]
  },
  {
   "cell_type": "code",
   "execution_count": 96,
   "metadata": {},
   "outputs": [
    {
     "data": {
      "text/plain": [
       "8.8914121349823"
      ]
     },
     "execution_count": 96,
     "metadata": {},
     "output_type": "execute_result"
    }
   ],
   "source": [
    "start_beta"
   ]
  },
  {
   "cell_type": "code",
   "execution_count": 97,
   "metadata": {},
   "outputs": [],
   "source": [
    "start = time.perf_counter()\n",
    "alpha_list, beta_list = iterative_func(dist, speed, start_alpha, start_beta,\n",
    "                                     learning_rate, iterative_num, sample_num)\n",
    "\n",
    "end = time.perf_counter()"
   ]
  },
  {
   "cell_type": "code",
   "execution_count": 99,
   "metadata": {},
   "outputs": [
    {
     "name": "stdout",
     "output_type": "stream",
     "text": [
      "运行时间:  36 seconds\n"
     ]
    }
   ],
   "source": [
    "print(\"运行时间: \", round(end-start), 'seconds')"
   ]
  },
  {
   "cell_type": "code",
   "execution_count": 88,
   "metadata": {},
   "outputs": [
    {
     "name": "stdout",
     "output_type": "stream",
     "text": [
      "alpha: -17.525035668998843, beta:4.098776999168476\n"
     ]
    }
   ],
   "source": [
    "print(\"alpha: {}, beta:{}\".format(alpha_list[-1], beta_list[-1]))"
   ]
  },
  {
   "cell_type": "code",
   "execution_count": null,
   "metadata": {
    "collapsed": true
   },
   "outputs": [],
   "source": []
  }
 ],
 "metadata": {
  "kernelspec": {
   "display_name": "Python 3",
   "language": "python",
   "name": "python3"
  },
  "language_info": {
   "codemirror_mode": {
    "name": "ipython",
    "version": 3
   },
   "file_extension": ".py",
   "mimetype": "text/x-python",
   "name": "python",
   "nbconvert_exporter": "python",
   "pygments_lexer": "ipython3",
   "version": "3.6.3"
  },
  "toc": {
   "base_numbering": 1,
   "nav_menu": {},
   "number_sections": true,
   "sideBar": true,
   "skip_h1_title": false,
   "title_cell": "Table of Contents",
   "title_sidebar": "Contents",
   "toc_cell": false,
   "toc_position": {},
   "toc_section_display": true,
   "toc_window_display": false
  }
 },
 "nbformat": 4,
 "nbformat_minor": 2
}
