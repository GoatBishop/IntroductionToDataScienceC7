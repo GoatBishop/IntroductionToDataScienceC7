{
 "cells": [
  {
   "cell_type": "code",
   "execution_count": 1,
   "metadata": {
    "collapsed": true
   },
   "outputs": [],
   "source": [
    "import matplotlib.pyplot as plt\n",
    "import pandas as pd\n",
    "import numpy as np"
   ]
  },
  {
   "cell_type": "code",
   "execution_count": 2,
   "metadata": {
    "collapsed": true
   },
   "outputs": [],
   "source": [
    "data_cars = pd.read_csv(\"./data/cars.csv\", usecols = [\"speed\", \"dist\"])"
   ]
  },
  {
   "cell_type": "code",
   "execution_count": 3,
   "metadata": {},
   "outputs": [
    {
     "data": {
      "text/plain": [
       "pandas.core.frame.DataFrame"
      ]
     },
     "execution_count": 3,
     "metadata": {},
     "output_type": "execute_result"
    }
   ],
   "source": [
    "type(data_cars)"
   ]
  },
  {
   "cell_type": "code",
   "execution_count": 4,
   "metadata": {},
   "outputs": [
    {
     "data": {
      "text/html": [
       "<div>\n",
       "<style scoped>\n",
       "    .dataframe tbody tr th:only-of-type {\n",
       "        vertical-align: middle;\n",
       "    }\n",
       "\n",
       "    .dataframe tbody tr th {\n",
       "        vertical-align: top;\n",
       "    }\n",
       "\n",
       "    .dataframe thead th {\n",
       "        text-align: right;\n",
       "    }\n",
       "</style>\n",
       "<table border=\"1\" class=\"dataframe\">\n",
       "  <thead>\n",
       "    <tr style=\"text-align: right;\">\n",
       "      <th></th>\n",
       "      <th>speed</th>\n",
       "      <th>dist</th>\n",
       "    </tr>\n",
       "  </thead>\n",
       "  <tbody>\n",
       "    <tr>\n",
       "      <th>0</th>\n",
       "      <td>4</td>\n",
       "      <td>2</td>\n",
       "    </tr>\n",
       "    <tr>\n",
       "      <th>1</th>\n",
       "      <td>4</td>\n",
       "      <td>10</td>\n",
       "    </tr>\n",
       "    <tr>\n",
       "      <th>2</th>\n",
       "      <td>7</td>\n",
       "      <td>4</td>\n",
       "    </tr>\n",
       "    <tr>\n",
       "      <th>3</th>\n",
       "      <td>7</td>\n",
       "      <td>22</td>\n",
       "    </tr>\n",
       "    <tr>\n",
       "      <th>4</th>\n",
       "      <td>8</td>\n",
       "      <td>16</td>\n",
       "    </tr>\n",
       "  </tbody>\n",
       "</table>\n",
       "</div>"
      ],
      "text/plain": [
       "   speed  dist\n",
       "0      4     2\n",
       "1      4    10\n",
       "2      7     4\n",
       "3      7    22\n",
       "4      8    16"
      ]
     },
     "execution_count": 4,
     "metadata": {},
     "output_type": "execute_result"
    }
   ],
   "source": [
    "data_cars.head()"
   ]
  },
  {
   "cell_type": "code",
   "execution_count": 5,
   "metadata": {
    "collapsed": true
   },
   "outputs": [],
   "source": [
    "#section/example01.py\n",
    "#绘制散点图\n",
    "speed = data_cars[\"speed\"]\n",
    "dist = data_cars[\"dist\"]"
   ]
  },
  {
   "cell_type": "code",
   "execution_count": 6,
   "metadata": {},
   "outputs": [
    {
     "data": {
      "image/png": "[encoded data removed]",
      "text/plain": [
       "<Figure size 432x288 with 1 Axes>"
      ]
     },
     "metadata": {},
     "output_type": "display_data"
    }
   ],
   "source": [
    "plt.scatter(speed, dist)\n",
    "plt.title(\"Scatter plot of vehicle speed and braking distance\")\n",
    "plt.show()"
   ]
  },
  {
   "cell_type": "code",
   "execution_count": 7,
   "metadata": {
    "collapsed": true
   },
   "outputs": [],
   "source": [
    "import sympy"
   ]
  },
  {
   "cell_type": "code",
   "execution_count": 9,
   "metadata": {
    "collapsed": true
   },
   "outputs": [
    {
     "data": {
      "text/plain": [
       "0      4\n",
       "1      4\n",
       "2      7\n",
       "3      7\n",
       "4      8\n",
       "5      9\n",
       "6     10\n",
       "7     10\n",
       "8     10\n",
       "9     11\n",
       "10    11\n",
       "11    12\n",
       "12    12\n",
       "13    12\n",
       "14    12\n",
       "15    13\n",
       "16    13\n",
       "17    13\n",
       "18    13\n",
       "19    14\n",
       "20    14\n",
       "21    14\n",
       "22    14\n",
       "23    15\n",
       "24    15\n",
       "25    15\n",
       "26    16\n",
       "27    16\n",
       "28    17\n",
       "29    17\n",
       "30    17\n",
       "31    18\n",
       "32    18\n",
       "33    18\n",
       "34    18\n",
       "35    19\n",
       "36    19\n",
       "37    19\n",
       "38    20\n",
       "39    20\n",
       "40    20\n",
       "41    20\n",
       "42    20\n",
       "43    22\n",
       "44    23\n",
       "45    24\n",
       "46    24\n",
       "47    24\n",
       "48    24\n",
       "49    25\n",
       "Name: speed, dtype: int64"
      ]
     },
     "execution_count": 9,
     "metadata": {},
     "output_type": "execute_result"
    }
   ],
   "source": [
    "speed"
   ]
  },
  {
   "cell_type": "code",
   "execution_count": 8,
   "metadata": {
    "collapsed": true
   },
   "outputs": [
    {
     "data": {
      "text/plain": [
       "0       2\n",
       "1      10\n",
       "2       4\n",
       "3      22\n",
       "4      16\n",
       "5      10\n",
       "6      18\n",
       "7      26\n",
       "8      34\n",
       "9      17\n",
       "10     28\n",
       "11     14\n",
       "12     20\n",
       "13     24\n",
       "14     28\n",
       "15     26\n",
       "16     34\n",
       "17     34\n",
       "18     46\n",
       "19     26\n",
       "20     36\n",
       "21     60\n",
       "22     80\n",
       "23     20\n",
       "24     26\n",
       "25     54\n",
       "26     32\n",
       "27     40\n",
       "28     32\n",
       "29     40\n",
       "30     50\n",
       "31     42\n",
       "32     56\n",
       "33     76\n",
       "34     84\n",
       "35     36\n",
       "36     46\n",
       "37     68\n",
       "38     32\n",
       "39     48\n",
       "40     52\n",
       "41     56\n",
       "42     64\n",
       "43     66\n",
       "44     54\n",
       "45     70\n",
       "46     92\n",
       "47     93\n",
       "48    120\n",
       "49     85\n",
       "Name: dist, dtype: int64"
      ]
     },
     "execution_count": 8,
     "metadata": {},
     "output_type": "execute_result"
    }
   ],
   "source": [
    "dist"
   ]
  },
  {
   "cell_type": "code",
   "execution_count": 13,
   "metadata": {},
   "outputs": [
    {
     "data": {
      "text/plain": [
       "array([[ 0,  4, -3]])"
      ]
     },
     "execution_count": 13,
     "metadata": {},
     "output_type": "execute_result"
    }
   ],
   "source": [
    "np.array([1, 2, 3])*np.array([[0, 2, -1]])"
   ]
  },
  {
   "cell_type": "code",
   "execution_count": 11,
   "metadata": {},
   "outputs": [
    {
     "data": {
      "text/plain": [
       "1"
      ]
     },
     "execution_count": 11,
     "metadata": {},
     "output_type": "execute_result"
    }
   ],
   "source": [
    "np.sum(np.array([1, 2, 3])*np.array([[0, 2, -1]]))"
   ]
  },
  {
   "cell_type": "code",
   "execution_count": 15,
   "metadata": {
    "collapsed": true
   },
   "outputs": [],
   "source": [
    "#设定回归系数\n",
    "alpha, beta = sympy.symbols(\"alpha beta\")"
   ]
  },
  {
   "cell_type": "code",
   "execution_count": 17,
   "metadata": {},
   "outputs": [
    {
     "data": {
      "text/plain": [
       "sympy.core.symbol.Symbol"
      ]
     },
     "execution_count": 17,
     "metadata": {},
     "output_type": "execute_result"
    }
   ],
   "source": [
    "type(alpha)"
   ]
  },
  {
   "cell_type": "code",
   "execution_count": 18,
   "metadata": {
    "collapsed": true
   },
   "outputs": [],
   "source": [
    "#设定回归系数\n",
    "alpha, beta = sympy.symbols(\"alpha beta\")\n",
    "#设定损失函数\n",
    "L = 0.5*np.sum((dist - beta*speed - alpha)**2)"
   ]
  },
  {
   "cell_type": "code",
   "execution_count": 19,
   "metadata": {},
   "outputs": [
    {
     "name": "stdout",
     "output_type": "stream",
     "text": [
      "50.0*alpha + 770.0*beta - 2149.0\n"
     ]
    }
   ],
   "source": [
    "#求偏导\n",
    "print(sympy.diff(L, alpha))"
   ]
  },
  {
   "cell_type": "code",
   "execution_count": 20,
   "metadata": {},
   "outputs": [
    {
     "name": "stdout",
     "output_type": "stream",
     "text": [
      "770.0*alpha + 13228.0*beta - 38482.0\n"
     ]
    }
   ],
   "source": [
    "#50.0*alpha + 770.0*beta - 2149.0\n",
    "print(sympy.diff(L, beta))"
   ]
  },
  {
   "cell_type": "code",
   "execution_count": 21,
   "metadata": {},
   "outputs": [
    {
     "name": "stdout",
     "output_type": "stream",
     "text": [
      "{alpha: -17.5790948905109, beta: 3.93240875912409}\n"
     ]
    }
   ],
   "source": [
    "#770.0*alpha + 13228.0*beta - 38482.0\n",
    "f1 = sympy.diff(L, alpha)\n",
    "f2 = sympy.diff(L, beta)\n",
    "#求解线性方程组\n",
    "outcome = sympy.solve([f1, f2], [alpha, beta])\n",
    "print(outcome)\n",
    "#{alpha: -17.5790948905109, beta: 3.93240875912409"
   ]
  },
  {
   "cell_type": "code",
   "execution_count": 23,
   "metadata": {
    "collapsed": true
   },
   "outputs": [
    {
     "data": {
      "text/plain": [
       "0     -1.84945985401460\n",
       "1     -1.84945985401460\n",
       "2      9.94776642335767\n",
       "3      9.94776642335767\n",
       "4      13.8801751824818\n",
       "5      17.8125839416058\n",
       "6      21.7449927007299\n",
       "7      21.7449927007299\n",
       "8      21.7449927007299\n",
       "9      25.6774014598540\n",
       "10     25.6774014598540\n",
       "11     29.6098102189781\n",
       "12     29.6098102189781\n",
       "13     29.6098102189781\n",
       "14     29.6098102189781\n",
       "15     33.5422189781022\n",
       "16     33.5422189781022\n",
       "17     33.5422189781022\n",
       "18     33.5422189781022\n",
       "19     37.4746277372263\n",
       "20     37.4746277372263\n",
       "21     37.4746277372263\n",
       "22     37.4746277372263\n",
       "23     41.4070364963504\n",
       "24     41.4070364963504\n",
       "25     41.4070364963504\n",
       "26     45.3394452554745\n",
       "27     45.3394452554745\n",
       "28     49.2718540145985\n",
       "29     49.2718540145985\n",
       "30     49.2718540145985\n",
       "31     53.2042627737226\n",
       "32     53.2042627737226\n",
       "33     53.2042627737226\n",
       "34     53.2042627737226\n",
       "35     57.1366715328467\n",
       "36     57.1366715328467\n",
       "37     57.1366715328467\n",
       "38     61.0690802919708\n",
       "39     61.0690802919708\n",
       "40     61.0690802919708\n",
       "41     61.0690802919708\n",
       "42     61.0690802919708\n",
       "43     68.9338978102190\n",
       "44     72.8663065693431\n",
       "45     76.7987153284672\n",
       "46     76.7987153284672\n",
       "47     76.7987153284672\n",
       "48     76.7987153284672\n",
       "49     80.7311240875913\n",
       "Name: speed, dtype: object"
      ]
     },
     "execution_count": 23,
     "metadata": {},
     "output_type": "execute_result"
    }
   ],
   "source": [
    "dist_pre"
   ]
  },
  {
   "cell_type": "code",
   "execution_count": 26,
   "metadata": {},
   "outputs": [
    {
     "data": {
      "image/png": "[encoded data removed]",
      "text/plain": [
       "<Figure size 432x288 with 1 Axes>"
      ]
     },
     "metadata": {},
     "output_type": "display_data"
    }
   ],
   "source": [
    "#section/example01.py\n",
    "#绘图\n",
    "alpha_num = outcome[alpha]\n",
    "beta_num = outcome[beta]\n",
    "#得到预测值\n",
    "dist_pre = beta_num*speed + alpha_num\n",
    "plt.scatter(speed, dist)\n",
    "plt.plot(speed, dist_pre, c = \"r\")\n",
    "plt.title(\"Fitting results\")\n",
    "plt.show()"
   ]
  },
  {
   "cell_type": "code",
   "execution_count": 27,
   "metadata": {},
   "outputs": [
    {
     "data": {
      "text/plain": [
       "range(0, 5)"
      ]
     },
     "execution_count": 27,
     "metadata": {},
     "output_type": "execute_result"
    }
   ],
   "source": [
    "range(5)"
   ]
  },
  {
   "cell_type": "code",
   "execution_count": 28,
   "metadata": {},
   "outputs": [
    {
     "data": {
      "text/plain": [
       "[0, 1, 2, 3, 4]"
      ]
     },
     "execution_count": 28,
     "metadata": {},
     "output_type": "execute_result"
    }
   ],
   "source": [
    "[0, 1, 2, 3, 4]"
   ]
  },
  {
   "cell_type": "code",
   "execution_count": 32,
   "metadata": {
    "collapsed": true
   },
   "outputs": [],
   "source": [
    "import random"
   ]
  },
  {
   "cell_type": "code",
   "execution_count": 35,
   "metadata": {},
   "outputs": [
    {
     "data": {
      "text/plain": [
       "[0, 1, 2, 3, 4]"
      ]
     },
     "execution_count": 35,
     "metadata": {},
     "output_type": "execute_result"
    }
   ],
   "source": [
    "test = [0, 1, 2, 3, 4]\n",
    "test"
   ]
  },
  {
   "cell_type": "code",
   "execution_count": 36,
   "metadata": {
    "scrolled": true
   },
   "outputs": [],
   "source": [
    "random.shuffle(test)"
   ]
  },
  {
   "cell_type": "code",
   "execution_count": 37,
   "metadata": {},
   "outputs": [
    {
     "data": {
      "text/plain": [
       "[1, 4, 3, 2, 0]"
      ]
     },
     "execution_count": 37,
     "metadata": {},
     "output_type": "execute_result"
    }
   ],
   "source": [
    "test"
   ]
  }
 ],
 "metadata": {
  "kernelspec": {
   "display_name": "Python 3",
   "language": "python",
   "name": "python3"
  },
  "language_info": {
   "codemirror_mode": {
    "name": "ipython",
    "version": 3
   },
   "file_extension": ".py",
   "mimetype": "text/x-python",
   "name": "python",
   "nbconvert_exporter": "python",
   "pygments_lexer": "ipython3",
   "version": "3.6.3"
  },
  "toc": {
   "base_numbering": 1,
   "nav_menu": {},
   "number_sections": true,
   "sideBar": true,
   "skip_h1_title": false,
   "title_cell": "Table of Contents",
   "title_sidebar": "Contents",
   "toc_cell": false,
   "toc_position": {},
   "toc_section_display": true,
   "toc_window_display": false
  }
 },
 "nbformat": 4,
 "nbformat_minor": 2
}
